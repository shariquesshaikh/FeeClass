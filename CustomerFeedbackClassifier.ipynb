{
  "nbformat": 4,
  "nbformat_minor": 0,
  "metadata": {
    "colab": {
      "name": "CustomerFeedbackClassifier.ipynb",
      "provenance": []
    },
    "kernelspec": {
      "name": "python3",
      "display_name": "Python 3"
    }
  },
  "cells": [
    {
      "cell_type": "markdown",
      "metadata": {
        "id": "J6ZmGCX8DcsP"
      },
      "source": [
        "**This model classifies the statement into five categories: 'Bugs', 'comments', 'complaints', 'meaningless', 'requests'.**"
      ]
    },
    {
      "cell_type": "code",
      "metadata": {
        "id": "cUb8ksh8onWE"
      },
      "source": [
        "#importing libareris\n",
        "import pandas as pd\n",
        "import numpy as np\n",
        "import os\n",
        "#For visualization\n",
        "import matplotlib.pyplot as plt\n",
        "import seaborn as sns\n",
        "# For Transforming our target vatiable\n",
        "from keras.utils import to_categorical\n",
        "from sklearn.preprocessing import LabelEncoder\n",
        "#For preprocessing text data\n",
        "import re\n",
        "from nltk.corpus import stopwords\n",
        "from sklearn.feature_extraction.text import TfidfVectorizer"
      ],
      "execution_count": 186,
      "outputs": []
    },
    {
      "cell_type": "code",
      "metadata": {
        "id": "kYzLbbQlo2Ub",
        "colab": {
          "base_uri": "https://localhost:8080/"
        },
        "outputId": "6a668c96-aaf5-4095-d336-d550946eefd8"
      },
      "source": [
        "from google.colab import drive\n",
        "drive.mount('/gdrive')\n",
        "%cd /gdrive"
      ],
      "execution_count": 187,
      "outputs": [
        {
          "output_type": "stream",
          "text": [
            "Drive already mounted at /gdrive; to attempt to forcibly remount, call drive.mount(\"/gdrive\", force_remount=True).\n",
            "/gdrive\n"
          ],
          "name": "stdout"
        }
      ]
    },
    {
      "cell_type": "code",
      "metadata": {
        "id": "QvBeLg2ppg5-",
        "colab": {
          "base_uri": "https://localhost:8080/"
        },
        "outputId": "758c1895-c962-4f2f-df5b-e243332ad7a6"
      },
      "source": [
        "path1=\"/gdrive/My Drive/Colab Notebooks/bugs.txt\"\n",
        "print(path1)\n",
        "path2='/gdrive/My Drive/Colab Notebooks/comments.txt'\n",
        "print(path2)\n",
        "path3='/gdrive/My Drive/Colab Notebooks/complaints.txt'\n",
        "print(path3)\n",
        "path4='/gdrive/My Drive/Colab Notebooks/meaningless.txt'\n",
        "print(path4)\n",
        "path5='/gdrive/My Drive/Colab Notebooks/requests.txt'\n",
        "print(path5)"
      ],
      "execution_count": 188,
      "outputs": [
        {
          "output_type": "stream",
          "text": [
            "/gdrive/My Drive/Colab Notebooks/bugs.txt\n",
            "/gdrive/My Drive/Colab Notebooks/comments.txt\n",
            "/gdrive/My Drive/Colab Notebooks/complaints.txt\n",
            "/gdrive/My Drive/Colab Notebooks/meaningless.txt\n",
            "/gdrive/My Drive/Colab Notebooks/requests.txt\n"
          ],
          "name": "stdout"
        }
      ]
    },
    {
      "cell_type": "code",
      "metadata": {
        "id": "9E9dsxU9qHxS"
      },
      "source": [
        "def text_data(path):\n",
        "    text_Body=[]\n",
        "    with open(path, \"r\", encoding='windows-1256') as f:\n",
        "        lines = f.readlines()\n",
        "            #print(lines) \n",
        "        text_Body.append(lines)\n",
        "    text_body_appended=[]\n",
        "    for i in range(0,len(text_Body[0])):\n",
        "        value=text_Body[0][i]\n",
        "        text_body_appended.append(value)\n",
        "    return text_body_appended"
      ],
      "execution_count": 189,
      "outputs": []
    },
    {
      "cell_type": "code",
      "metadata": {
        "id": "nsrNU04KrIFp"
      },
      "source": [
        "bugs=text_data(path1)\n",
        "comments=text_data(path2)\n",
        "complaints=text_data(path3)\n",
        "meaningless=text_data(path4)\n",
        "requests=text_data(path5)"
      ],
      "execution_count": 190,
      "outputs": []
    },
    {
      "cell_type": "markdown",
      "metadata": {
        "id": "eRQe37d4remi"
      },
      "source": [
        "**DATA VISUALIZATION**"
      ]
    },
    {
      "cell_type": "code",
      "metadata": {
        "id": "gPY2iGIOrYIG",
        "colab": {
          "base_uri": "https://localhost:8080/"
        },
        "outputId": "bac4f6be-2cc6-4581-a389-8eaf461cd08d"
      },
      "source": [
        "print(len(bugs))\n",
        "print(len(comments))\n",
        "print(len(complaints))\n",
        "print(len(meaningless))\n",
        "print(len(requests))"
      ],
      "execution_count": 191,
      "outputs": [
        {
          "output_type": "stream",
          "text": [
            "72\n",
            "1759\n",
            "950\n",
            "306\n",
            "103\n"
          ],
          "name": "stdout"
        }
      ]
    },
    {
      "cell_type": "code",
      "metadata": {
        "id": "0h00A6b-rmAJ"
      },
      "source": [
        "def data_frame(txt,category):\n",
        "    column_names=('text','Category')\n",
        "    df = pd.DataFrame(columns=column_names)\n",
        "    df['text']=txt\n",
        "    df['Category']=category\n",
        "    return df"
      ],
      "execution_count": 192,
      "outputs": []
    },
    {
      "cell_type": "code",
      "metadata": {
        "id": "nVvky5pPrzae"
      },
      "source": [
        "data=data_frame(bugs,\"Bug\")\n",
        "data=data.append(data_frame(comments,\"comments\"))\n",
        "data=data.append(data_frame(complaints,\"complaints\"))\n",
        "data=data.append(data_frame(meaningless,\"meaningless\"))\n",
        "data=data.append(data_frame(requests,\"requests\"))"
      ],
      "execution_count": 198,
      "outputs": []
    },
    {
      "cell_type": "code",
      "metadata": {
        "id": "yisJfPFvr3vc",
        "colab": {
          "base_uri": "https://localhost:8080/"
        },
        "outputId": "4571bc6c-5d9b-4717-d6b1-ce3ba9ee5c63"
      },
      "source": [
        "data['Category'].unique()"
      ],
      "execution_count": 199,
      "outputs": [
        {
          "output_type": "execute_result",
          "data": {
            "text/plain": [
              "array(['Bug', 'comments', 'complaints', 'meaningless', 'requests'],\n",
              "      dtype=object)"
            ]
          },
          "metadata": {
            "tags": []
          },
          "execution_count": 199
        }
      ]
    },
    {
      "cell_type": "code",
      "metadata": {
        "id": "dXNoLCKUr7AW",
        "colab": {
          "base_uri": "https://localhost:8080/",
          "height": 204
        },
        "outputId": "b133c6eb-4da2-437d-8cfd-dec50607a324"
      },
      "source": [
        "data.head()"
      ],
      "execution_count": 200,
      "outputs": [
        {
          "output_type": "execute_result",
          "data": {
            "text/html": [
              "<div>\n",
              "<style scoped>\n",
              "    .dataframe tbody tr th:only-of-type {\n",
              "        vertical-align: middle;\n",
              "    }\n",
              "\n",
              "    .dataframe tbody tr th {\n",
              "        vertical-align: top;\n",
              "    }\n",
              "\n",
              "    .dataframe thead th {\n",
              "        text-align: right;\n",
              "    }\n",
              "</style>\n",
              "<table border=\"1\" class=\"dataframe\">\n",
              "  <thead>\n",
              "    <tr style=\"text-align: right;\">\n",
              "      <th></th>\n",
              "      <th>text</th>\n",
              "      <th>Category</th>\n",
              "    </tr>\n",
              "  </thead>\n",
              "  <tbody>\n",
              "    <tr>\n",
              "      <th>0</th>\n",
              "      <td>A lot of the time my purchase won't show up.\\n</td>\n",
              "      <td>Bug</td>\n",
              "    </tr>\n",
              "    <tr>\n",
              "      <th>1</th>\n",
              "      <td>I only see the notification if I catch it live...</td>\n",
              "      <td>Bug</td>\n",
              "    </tr>\n",
              "    <tr>\n",
              "      <th>2</th>\n",
              "      <td>When I type the typing area should slide above...</td>\n",
              "      <td>Bug</td>\n",
              "    </tr>\n",
              "    <tr>\n",
              "      <th>3</th>\n",
              "      <td>I ran it, and promptly got driver problems wit...</td>\n",
              "      <td>Bug</td>\n",
              "    </tr>\n",
              "    <tr>\n",
              "      <th>4</th>\n",
              "      <td>Still calls keep dropping with the new updates\\n</td>\n",
              "      <td>Bug</td>\n",
              "    </tr>\n",
              "  </tbody>\n",
              "</table>\n",
              "</div>"
            ],
            "text/plain": [
              "                                                text Category\n",
              "0     A lot of the time my purchase won't show up.\\n      Bug\n",
              "1  I only see the notification if I catch it live...      Bug\n",
              "2  When I type the typing area should slide above...      Bug\n",
              "3  I ran it, and promptly got driver problems wit...      Bug\n",
              "4   Still calls keep dropping with the new updates\\n      Bug"
            ]
          },
          "metadata": {
            "tags": []
          },
          "execution_count": 200
        }
      ]
    },
    {
      "cell_type": "code",
      "metadata": {
        "id": "PQJPh6CNr_hu",
        "colab": {
          "base_uri": "https://localhost:8080/"
        },
        "outputId": "f5e197a5-a5d2-4e80-cbfa-8600b4e7fd8d"
      },
      "source": [
        "data.groupby(['Category']).size()"
      ],
      "execution_count": 201,
      "outputs": [
        {
          "output_type": "execute_result",
          "data": {
            "text/plain": [
              "Category\n",
              "Bug              72\n",
              "comments       1759\n",
              "complaints      950\n",
              "meaningless     306\n",
              "requests        103\n",
              "dtype: int64"
            ]
          },
          "metadata": {
            "tags": []
          },
          "execution_count": 201
        }
      ]
    },
    {
      "cell_type": "code",
      "metadata": {
        "id": "O-LkgTzosFrM",
        "colab": {
          "base_uri": "https://localhost:8080/",
          "height": 279
        },
        "outputId": "b65ced9b-e72c-4e8b-e89b-1b04ed6efffe"
      },
      "source": [
        "sns.countplot(x='Category',data=data,order=['Bug', 'comments', 'complaints', 'meaningless', 'requests'])\n",
        "plt.show()"
      ],
      "execution_count": 202,
      "outputs": [
        {
          "output_type": "display_data",
          "data": {
            "image/png": "[encoded data removed]",
            "text/plain": [
              "<Figure size 432x288 with 1 Axes>"
            ]
          },
          "metadata": {
            "tags": [],
            "needs_background": "light"
          }
        }
      ]
    },
    {
      "cell_type": "markdown",
      "metadata": {
        "id": "uFHm1DZ3sOu4"
      },
      "source": [
        "**DATA CLEANING**"
      ]
    },
    {
      "cell_type": "code",
      "metadata": {
        "id": "HUHKegR0sFoT"
      },
      "source": [
        "#remove link starts with https\n",
        "data['text'] = data['text'].map(lambda x:re.sub('http.*','',str(x)))\n",
        "#removing data and time (numeric values)\n",
        "data['text'] = data['text'].map(lambda x:re.sub('[0-9]','',str(x)))\n",
        "#removing \\n\n",
        "data['text'] = data['text'].map(lambda x:re.sub('[\\\\n]','',str(x)))\n",
        "#removing some special characters\n",
        "data['text'] = data['text'].map(lambda x:re.sub('[#|*|$|:|\\\\|&]','',str(x)))"
      ],
      "execution_count": 203,
      "outputs": []
    },
    {
      "cell_type": "code",
      "metadata": {
        "id": "PHCfSESusmqg"
      },
      "source": [
        "my_stopwords = ['jan','january','february' 'feb', 'march', 'april', 'may', 'june','july','aug',\n",
        "                    'october','October','june','july','February','apr','Apr','february','jun','jul','feb','sep',\n",
        "                    'august','sept','september','oct','october','nov','november','dec','december','mar','november october','wasnt']"
      ],
      "execution_count": 204,
      "outputs": []
    },
    {
      "cell_type": "code",
      "metadata": {
        "id": "r54NWoEOs4ji"
      },
      "source": [
        "import nltk\n",
        "nltk.download('all')"
      ],
      "execution_count": null,
      "outputs": []
    },
    {
      "cell_type": "code",
      "metadata": {
        "id": "StNrMocls-U9",
        "colab": {
          "base_uri": "https://localhost:8080/"
        },
        "outputId": "6668506d-5b6d-4d89-ac9f-5f5c58dce0d7"
      },
      "source": [
        "nltk.download('stopwords')\n",
        "from nltk.corpus import stopwords"
      ],
      "execution_count": 206,
      "outputs": [
        {
          "output_type": "stream",
          "text": [
            "[nltk_data] Downloading package stopwords to /root/nltk_data...\n",
            "[nltk_data]   Package stopwords is already up-to-date!\n"
          ],
          "name": "stdout"
        }
      ]
    },
    {
      "cell_type": "code",
      "metadata": {
        "id": "tyYvOD4EsuF5"
      },
      "source": [
        "#preparing train data\n",
        "#removing stopwords and tokenizing it.\n",
        "stop=stopwords.words('english')\n",
        "text=[]\n",
        "none=data['text'].map(lambda x:text.append(' '.join\n",
        "       ([word for word in str(x).strip().split() if not word in set(stop) and word not in my_stopwords])))\n",
        "tfid=TfidfVectorizer(strip_accents=None,lowercase=False,preprocessor=None)\n",
        "x_features=tfid.fit_transform(text).toarray()\n",
        "x_features=pd.DataFrame(x_features)"
      ],
      "execution_count": 207,
      "outputs": []
    },
    {
      "cell_type": "markdown",
      "metadata": {
        "id": "DKdmgHHitdh5"
      },
      "source": [
        "**TRAINING**"
      ]
    },
    {
      "cell_type": "code",
      "metadata": {
        "id": "k56G9465taVQ"
      },
      "source": [
        "#preparing target variable\n",
        "target=data['Category']\n",
        "label=LabelEncoder()\n",
        "target=label.fit_transform(target)\n",
        "target=to_categorical(target)"
      ],
      "execution_count": 208,
      "outputs": []
    },
    {
      "cell_type": "code",
      "metadata": {
        "id": "qmsOx5qltvTr",
        "colab": {
          "base_uri": "https://localhost:8080/"
        },
        "outputId": "1617991b-631b-43c2-b4bb-4f5fb1211d3d"
      },
      "source": [
        "target=pd.DataFrame(data=target,columns=['Bug', 'comments', 'complaints', 'meaningless', 'requests'])\n",
        "# target.head(20)\n",
        "print(target)"
      ],
      "execution_count": 209,
      "outputs": [
        {
          "output_type": "stream",
          "text": [
            "      Bug  comments  complaints  meaningless  requests\n",
            "0     1.0       0.0         0.0          0.0       0.0\n",
            "1     1.0       0.0         0.0          0.0       0.0\n",
            "2     1.0       0.0         0.0          0.0       0.0\n",
            "3     1.0       0.0         0.0          0.0       0.0\n",
            "4     1.0       0.0         0.0          0.0       0.0\n",
            "...   ...       ...         ...          ...       ...\n",
            "3185  0.0       0.0         0.0          0.0       1.0\n",
            "3186  0.0       0.0         0.0          0.0       1.0\n",
            "3187  0.0       0.0         0.0          0.0       1.0\n",
            "3188  0.0       0.0         0.0          0.0       1.0\n",
            "3189  0.0       0.0         0.0          0.0       1.0\n",
            "\n",
            "[3190 rows x 5 columns]\n"
          ],
          "name": "stdout"
        }
      ]
    },
    {
      "cell_type": "code",
      "metadata": {
        "id": "tZLaLqGstzAE"
      },
      "source": [
        "#training with One Vs All(One VS Rest)\n",
        "from sklearn.model_selection import cross_val_score\n",
        "from sklearn.multiclass import OneVsRestClassifier\n",
        "from sklearn.linear_model import LogisticRegression as lg\n",
        "logistic=lg(penalty='l2',solver='newton-cg',C=5,multi_class='ovr',max_iter=5000)#using multiclass as ovr(one vs rest)"
      ],
      "execution_count": 210,
      "outputs": []
    },
    {
      "cell_type": "markdown",
      "metadata": {
        "id": "7YsDUjHct-Bg"
      },
      "source": [
        "**TRAINIG BUGS VS ALL**"
      ]
    },
    {
      "cell_type": "code",
      "metadata": {
        "id": "wPF0gW4St6Q6",
        "colab": {
          "base_uri": "https://localhost:8080/"
        },
        "outputId": "5a8422a8-69b1-424e-f857-4768eac1d79f"
      },
      "source": [
        "acc=cross_val_score(estimator=logistic,X=x_features.iloc[:144,:],y=target.iloc[:144,0],cv=5)\n",
        "acc.mean()"
      ],
      "execution_count": 211,
      "outputs": [
        {
          "output_type": "execute_result",
          "data": {
            "text/plain": [
              "0.8268472906403941"
            ]
          },
          "metadata": {
            "tags": []
          },
          "execution_count": 211
        }
      ]
    },
    {
      "cell_type": "markdown",
      "metadata": {
        "id": "UywC6FIduSMH"
      },
      "source": [
        "**TRAINIG COMMENTS VS ALL**"
      ]
    },
    {
      "cell_type": "code",
      "metadata": {
        "id": "rFZACFm6uH4X",
        "colab": {
          "base_uri": "https://localhost:8080/"
        },
        "outputId": "4d3d5dc2-a760-493f-dbc0-323efb85625e"
      },
      "source": [
        "acc=cross_val_score(estimator=logistic,X=x_features.iloc[100:2100,:],y=target.iloc[100:2100,1],cv=5)\n",
        "acc.mean()"
      ],
      "execution_count": 212,
      "outputs": [
        {
          "output_type": "execute_result",
          "data": {
            "text/plain": [
              "0.8634999999999999"
            ]
          },
          "metadata": {
            "tags": []
          },
          "execution_count": 212
        }
      ]
    },
    {
      "cell_type": "markdown",
      "metadata": {
        "id": "irREjjZTunh3"
      },
      "source": [
        "**Training complaints vs all**"
      ]
    },
    {
      "cell_type": "code",
      "metadata": {
        "id": "NTFzbYiTun-F",
        "colab": {
          "base_uri": "https://localhost:8080/"
        },
        "outputId": "38305fae-feef-4b4d-c034-3af838fe4913"
      },
      "source": [
        "acc=cross_val_score(estimator=logistic,X=x_features.iloc[100:2100,:],y=target.iloc[100:2100,1],cv=5)\n",
        "acc.mean()"
      ],
      "execution_count": 213,
      "outputs": [
        {
          "output_type": "execute_result",
          "data": {
            "text/plain": [
              "0.8634999999999999"
            ]
          },
          "metadata": {
            "tags": []
          },
          "execution_count": 213
        }
      ]
    },
    {
      "cell_type": "markdown",
      "metadata": {
        "id": "h6zFvMe2uvRd"
      },
      "source": [
        "**Training meaningless vs all**"
      ]
    },
    {
      "cell_type": "code",
      "metadata": {
        "id": "XC-vkn_Mu1St",
        "colab": {
          "base_uri": "https://localhost:8080/"
        },
        "outputId": "6d3b7c0c-6e9f-48cb-f5e2-251ece6631bf"
      },
      "source": [
        "acc=cross_val_score(estimator=logistic,X=x_features.iloc[2700:3300,:],y=target.iloc[2700:3300,3],cv=5)\n",
        "acc.mean()"
      ],
      "execution_count": 214,
      "outputs": [
        {
          "output_type": "execute_result",
          "data": {
            "text/plain": [
              "0.6979591836734694"
            ]
          },
          "metadata": {
            "tags": []
          },
          "execution_count": 214
        }
      ]
    },
    {
      "cell_type": "markdown",
      "metadata": {
        "id": "rZWK2axvvdvx"
      },
      "source": [
        "**Training requests vs all**"
      ]
    },
    {
      "cell_type": "code",
      "metadata": {
        "id": "smAyOcZ1vc4X",
        "colab": {
          "base_uri": "https://localhost:8080/"
        },
        "outputId": "484278b6-3236-423d-a0b8-1afc8721ec1a"
      },
      "source": [
        "acc=cross_val_score(estimator=logistic,X=x_features.iloc[-206:,:],y=target.iloc[-206:,4],cv=5)\n",
        "acc.mean()"
      ],
      "execution_count": 215,
      "outputs": [
        {
          "output_type": "execute_result",
          "data": {
            "text/plain": [
              "0.7285714285714286"
            ]
          },
          "metadata": {
            "tags": []
          },
          "execution_count": 215
        }
      ]
    },
    {
      "cell_type": "markdown",
      "metadata": {
        "id": "oeZu98uBvn4R"
      },
      "source": [
        "**ARTIFICIAL NEURAL NETWORK**"
      ]
    },
    {
      "cell_type": "code",
      "metadata": {
        "id": "eISJWQLlvv94"
      },
      "source": [
        "#lets dig deeper and apply Deep learning for better accuracy\n",
        "from keras.models import Sequential\n",
        "from keras.layers import Flatten, Dense\n",
        "from keras import regularizers\n",
        "from keras.layers import Dropout"
      ],
      "execution_count": 216,
      "outputs": []
    },
    {
      "cell_type": "code",
      "metadata": {
        "id": "ok4xwIAZv1aO",
        "colab": {
          "base_uri": "https://localhost:8080/"
        },
        "outputId": "e268a847-fb94-4fb4-ed83-5e771626852d"
      },
      "source": [
        "x_features.shape"
      ],
      "execution_count": 217,
      "outputs": [
        {
          "output_type": "execute_result",
          "data": {
            "text/plain": [
              "(3190, 5193)"
            ]
          },
          "metadata": {
            "tags": []
          },
          "execution_count": 217
        }
      ]
    },
    {
      "cell_type": "code",
      "metadata": {
        "id": "wzUtf4LHv4l9"
      },
      "source": [
        "#preparing target variable\n",
        "target=data['Category']\n",
        "label=LabelEncoder()\n",
        "target=label.fit_transform(target)\n",
        "target=to_categorical(target)"
      ],
      "execution_count": 218,
      "outputs": []
    },
    {
      "cell_type": "code",
      "metadata": {
        "id": "JEvfOskrv9HM",
        "colab": {
          "base_uri": "https://localhost:8080/"
        },
        "outputId": "dffeffea-a3b3-4bd6-e7e7-025359e9e41d"
      },
      "source": [
        "target=pd.DataFrame(data=target,columns=['Bug', 'comments', 'complaints', 'meaningless', 'requests'])\n",
        "print(target)"
      ],
      "execution_count": 219,
      "outputs": [
        {
          "output_type": "stream",
          "text": [
            "      Bug  comments  complaints  meaningless  requests\n",
            "0     1.0       0.0         0.0          0.0       0.0\n",
            "1     1.0       0.0         0.0          0.0       0.0\n",
            "2     1.0       0.0         0.0          0.0       0.0\n",
            "3     1.0       0.0         0.0          0.0       0.0\n",
            "4     1.0       0.0         0.0          0.0       0.0\n",
            "...   ...       ...         ...          ...       ...\n",
            "3185  0.0       0.0         0.0          0.0       1.0\n",
            "3186  0.0       0.0         0.0          0.0       1.0\n",
            "3187  0.0       0.0         0.0          0.0       1.0\n",
            "3188  0.0       0.0         0.0          0.0       1.0\n",
            "3189  0.0       0.0         0.0          0.0       1.0\n",
            "\n",
            "[3190 rows x 5 columns]\n"
          ],
          "name": "stdout"
        }
      ]
    },
    {
      "cell_type": "code",
      "metadata": {
        "id": "gD9wwMKxwKXp"
      },
      "source": [
        "clf=Sequential()\n",
        "#adding layers to ANN\n",
        "clf.add(Dense(units=2048,activation=\"relu\",kernel_initializer=\"uniform\",kernel_regularizer=regularizers.l2(0.001),input_dim=5193))\n",
        "clf.add(Dropout(0.2))\n",
        "#adding two more hidden layer to ANN\n",
        "clf.add(Dense(units=2048,activation=\"relu\",kernel_initializer=\"uniform\",kernel_regularizer=regularizers.l2(0.001)))\n",
        "clf.add(Dropout(0.2))\n",
        "clf.add(Dense(units=2048,activation=\"relu\",kernel_initializer=\"uniform\",kernel_regularizer=regularizers.l2(0.001)))\n",
        "clf.add(Dropout(0.2))\n",
        "#adding output layer\n",
        "clf.add(Dense(units=5,activation=\"softmax\",kernel_initializer=\"uniform\"))\n",
        "#compiling ANN\n",
        "clf.compile(optimizer='adam',loss='categorical_crossentropy',metrics=['accuracy'])"
      ],
      "execution_count": 220,
      "outputs": []
    },
    {
      "cell_type": "code",
      "metadata": {
        "id": "N4JZovCe1Atk",
        "colab": {
          "base_uri": "https://localhost:8080/"
        },
        "outputId": "e97b01a6-a644-422e-9404-8b7bb8bc9c8c"
      },
      "source": [
        "#fitting ANN\n",
        "hist=clf.fit(x_features,target,batch_size=32,epochs=24)"
      ],
      "execution_count": 221,
      "outputs": [
        {
          "output_type": "stream",
          "text": [
            "Epoch 1/24\n",
            "100/100 [==============================] - 20s 193ms/step - loss: 7.9931 - accuracy: 0.5222\n",
            "Epoch 2/24\n",
            "100/100 [==============================] - 19s 190ms/step - loss: 1.1012 - accuracy: 0.7107\n",
            "Epoch 3/24\n",
            "100/100 [==============================] - 19s 190ms/step - loss: 0.8711 - accuracy: 0.8020\n",
            "Epoch 4/24\n",
            "100/100 [==============================] - 19s 191ms/step - loss: 0.7576 - accuracy: 0.8525\n",
            "Epoch 5/24\n",
            "100/100 [==============================] - 19s 191ms/step - loss: 0.6783 - accuracy: 0.8761\n",
            "Epoch 6/24\n",
            "100/100 [==============================] - 19s 190ms/step - loss: 0.6167 - accuracy: 0.8946\n",
            "Epoch 7/24\n",
            "100/100 [==============================] - 19s 190ms/step - loss: 0.5926 - accuracy: 0.8995\n",
            "Epoch 8/24\n",
            "100/100 [==============================] - 19s 190ms/step - loss: 0.5386 - accuracy: 0.9128\n",
            "Epoch 9/24\n",
            "100/100 [==============================] - 19s 189ms/step - loss: 0.5221 - accuracy: 0.9095\n",
            "Epoch 10/24\n",
            "100/100 [==============================] - 19s 190ms/step - loss: 0.4900 - accuracy: 0.9122\n",
            "Epoch 11/24\n",
            "100/100 [==============================] - 19s 189ms/step - loss: 0.4605 - accuracy: 0.9284\n",
            "Epoch 12/24\n",
            "100/100 [==============================] - 19s 190ms/step - loss: 0.4456 - accuracy: 0.9202\n",
            "Epoch 13/24\n",
            "100/100 [==============================] - 19s 189ms/step - loss: 0.4380 - accuracy: 0.9275\n",
            "Epoch 14/24\n",
            "100/100 [==============================] - 19s 189ms/step - loss: 0.4366 - accuracy: 0.9219\n",
            "Epoch 15/24\n",
            "100/100 [==============================] - 19s 189ms/step - loss: 0.4159 - accuracy: 0.9333\n",
            "Epoch 16/24\n",
            "100/100 [==============================] - 19s 189ms/step - loss: 0.4112 - accuracy: 0.9427\n",
            "Epoch 17/24\n",
            "100/100 [==============================] - 19s 190ms/step - loss: 0.4006 - accuracy: 0.9293\n",
            "Epoch 18/24\n",
            "100/100 [==============================] - 19s 191ms/step - loss: 0.3788 - accuracy: 0.9375\n",
            "Epoch 19/24\n",
            "100/100 [==============================] - 19s 189ms/step - loss: 0.3752 - accuracy: 0.9389\n",
            "Epoch 20/24\n",
            "100/100 [==============================] - 19s 189ms/step - loss: 0.3658 - accuracy: 0.9413\n",
            "Epoch 21/24\n",
            "100/100 [==============================] - 19s 188ms/step - loss: 0.3598 - accuracy: 0.9399\n",
            "Epoch 22/24\n",
            "100/100 [==============================] - 19s 188ms/step - loss: 0.3489 - accuracy: 0.9426\n",
            "Epoch 23/24\n",
            "100/100 [==============================] - 20s 195ms/step - loss: 0.3734 - accuracy: 0.9327\n",
            "Epoch 24/24\n",
            "100/100 [==============================] - 19s 188ms/step - loss: 0.3473 - accuracy: 0.9336\n"
          ],
          "name": "stdout"
        }
      ]
    },
    {
      "cell_type": "markdown",
      "metadata": {
        "id": "LDNZi6prwO4X"
      },
      "source": [
        "**GRAPH**"
      ]
    },
    {
      "cell_type": "code",
      "metadata": {
        "id": "PotLfIlVwSE0",
        "colab": {
          "base_uri": "https://localhost:8080/",
          "height": 265
        },
        "outputId": "f035019f-c1f4-41fe-88bc-b41f8c480e9e"
      },
      "source": [
        "# Plot the loss and accuracy curves for training and validation \n",
        "fig, ax = plt.subplots(2,1)\n",
        "ax[0].plot(hist.history['loss'], color='b', label=\"Training loss\")\n",
        "legend = ax[0].legend(loc='best', shadow=True)\n",
        "\n",
        "ax[1].plot(hist.history['accuracy'], color='r', label=\"Training accuracy\")\n",
        "legend = ax[1].legend(loc='best', shadow=True)"
      ],
      "execution_count": 222,
      "outputs": [
        {
          "output_type": "display_data",
          "data": {
            "image/png": "[encoded data removed]",
            "text/plain": [
              "<Figure size 432x288 with 2 Axes>"
            ]
          },
          "metadata": {
            "tags": [],
            "needs_background": "light"
          }
        }
      ]
    },
    {
      "cell_type": "markdown",
      "metadata": {
        "id": "OgM_8eye4zeO"
      },
      "source": [
        "**Prediction**"
      ]
    },
    {
      "cell_type": "markdown",
      "metadata": {
        "id": "UvlUWzQ6PElH"
      },
      "source": [
        "Input here"
      ]
    },
    {
      "cell_type": "code",
      "metadata": {
        "id": "lWih06GEB5UL",
        "colab": {
          "base_uri": "https://localhost:8080/"
        },
        "outputId": "ec8915d6-3d93-4271-d7a1-662b78128d5a"
      },
      "source": [
        "test=[]\n",
        "\n",
        "t=int(input(\"How many statements?\\n\"))\n",
        "if t==1:\n",
        "  print(\"\\nEnter only\",t,\"feedback statement.\")\n",
        "else:\n",
        "  print(\"\\nEnter\",t,\"feedback statements.\")\n",
        "for i in range(0,t):\n",
        "   test.append(input(\"Enter Feedback Statement \"+str(i+1)+\": \"))\n",
        "\n",
        "print(\"\\nThanks for your feedback :)\")"
      ],
      "execution_count": 231,
      "outputs": [
        {
          "output_type": "stream",
          "text": [
            "How many statements?\n",
            "3\n",
            "\n",
            "Enter 3 feedback statements.\n",
            "Enter Feedback Statement 1: Please provide the proper details for this product\n",
            "Enter Feedback Statement 2: This is awesome\n",
            "Enter Feedback Statement 3: Bad quality\n",
            "\n",
            "Thanks for your feedback :)\n"
          ],
          "name": "stdout"
        }
      ]
    },
    {
      "cell_type": "code",
      "metadata": {
        "id": "2oNjfwv43228"
      },
      "source": [
        "test=pd.DataFrame(test,columns=['text'])"
      ],
      "execution_count": 232,
      "outputs": []
    },
    {
      "cell_type": "code",
      "metadata": {
        "id": "WIVXGU8Q327L"
      },
      "source": [
        "#remove link starts with https\n",
        "test['text'] = test['text'].map(lambda x:re.sub('http.*','',str(x)))\n",
        "#removing data and time (numeric values)\n",
        "test['text'] = test['text'].map(lambda x:re.sub('[0-9]','',str(x)))\n",
        "#removing some special characters\n",
        "test['text'] = test['text'].map(lambda x:re.sub('[#|*|$|:|\\\\|&]','',str(x)))"
      ],
      "execution_count": 233,
      "outputs": []
    },
    {
      "cell_type": "code",
      "metadata": {
        "id": "CdOC1Cjy4CET"
      },
      "source": [
        "#preparing data\n",
        "#removing stopwords and tokenizing it.\n",
        "stop=stopwords.words('english')\n",
        "text=[]\n",
        "none=test['text'].map(lambda x:text.append(' '.join\n",
        "       ([word for word in str(x).strip().split() if not word in set(stop)])))\n",
        "x_features_test=tfid.transform(text).toarray()\n",
        "x_features_test=pd.DataFrame(x_features_test)"
      ],
      "execution_count": 234,
      "outputs": []
    },
    {
      "cell_type": "markdown",
      "metadata": {
        "id": "_3GRvFrl6LZ7"
      },
      "source": [
        "**Predicting by ANN model**"
      ]
    },
    {
      "cell_type": "code",
      "metadata": {
        "id": "Doe6MiMQ4CBf"
      },
      "source": [
        "results=clf.predict(x_features_test)"
      ],
      "execution_count": 235,
      "outputs": []
    },
    {
      "cell_type": "code",
      "metadata": {
        "id": "Sdl0M-OV4N1O",
        "colab": {
          "base_uri": "https://localhost:8080/"
        },
        "outputId": "ea7606f7-8df1-4524-94fd-84d20dc7faf2"
      },
      "source": [
        "# select the indix with the maximum probability\n",
        "results = np.argmax(results,axis = 1)\n",
        "results"
      ],
      "execution_count": 236,
      "outputs": [
        {
          "output_type": "execute_result",
          "data": {
            "text/plain": [
              "array([4, 1, 2])"
            ]
          },
          "metadata": {
            "tags": []
          },
          "execution_count": 236
        }
      ]
    },
    {
      "cell_type": "code",
      "metadata": {
        "id": "-Wxg7Xw44TYH"
      },
      "source": [
        "results=pd.DataFrame(results,columns=['Category'])\n",
        "int_category={0:'Bug', 1:'comments', 2:'complaints', 3:'meaningless', 4:'requests'}\n",
        "results['Category']=results['Category'].apply(lambda x:int_category[x])\n",
        "results['text']=test['text']"
      ],
      "execution_count": 237,
      "outputs": []
    },
    {
      "cell_type": "code",
      "metadata": {
        "id": "oSn1HDnc4UWs",
        "colab": {
          "base_uri": "https://localhost:8080/",
          "height": 142
        },
        "outputId": "8c42d082-4c14-4554-c0f4-a586e22cdb73"
      },
      "source": [
        "results"
      ],
      "execution_count": 238,
      "outputs": [
        {
          "output_type": "execute_result",
          "data": {
            "text/html": [
              "<div>\n",
              "<style scoped>\n",
              "    .dataframe tbody tr th:only-of-type {\n",
              "        vertical-align: middle;\n",
              "    }\n",
              "\n",
              "    .dataframe tbody tr th {\n",
              "        vertical-align: top;\n",
              "    }\n",
              "\n",
              "    .dataframe thead th {\n",
              "        text-align: right;\n",
              "    }\n",
              "</style>\n",
              "<table border=\"1\" class=\"dataframe\">\n",
              "  <thead>\n",
              "    <tr style=\"text-align: right;\">\n",
              "      <th></th>\n",
              "      <th>Category</th>\n",
              "      <th>text</th>\n",
              "    </tr>\n",
              "  </thead>\n",
              "  <tbody>\n",
              "    <tr>\n",
              "      <th>0</th>\n",
              "      <td>requests</td>\n",
              "      <td>Please provide the proper details for this pro...</td>\n",
              "    </tr>\n",
              "    <tr>\n",
              "      <th>1</th>\n",
              "      <td>comments</td>\n",
              "      <td>This is awesome</td>\n",
              "    </tr>\n",
              "    <tr>\n",
              "      <th>2</th>\n",
              "      <td>complaints</td>\n",
              "      <td>Bad quality</td>\n",
              "    </tr>\n",
              "  </tbody>\n",
              "</table>\n",
              "</div>"
            ],
            "text/plain": [
              "     Category                                               text\n",
              "0    requests  Please provide the proper details for this pro...\n",
              "1    comments                                    This is awesome\n",
              "2  complaints                                        Bad quality"
            ]
          },
          "metadata": {
            "tags": []
          },
          "execution_count": 238
        }
      ]
    }
  ]
}